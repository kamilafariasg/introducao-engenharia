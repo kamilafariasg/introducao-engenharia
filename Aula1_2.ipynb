{
  "nbformat": 4,
  "nbformat_minor": 0,
  "metadata": {
    "colab": {
      "name": "Aula1_2.ipynb",
      "provenance": [],
      "toc_visible": true,
      "authorship_tag": "ABX9TyPOuCpNSR3ULqIa9vATr84Y"
    },
    "kernelspec": {
      "name": "python3",
      "display_name": "Python 3"
    },
    "language_info": {
      "name": "python"
    }
  },
  "cells": [
    {
      "cell_type": "markdown",
      "source": [
        "# **Resolução de Integrais**"
      ],
      "metadata": {
        "id": "7JlE-Q4BfvLy"
      }
    },
    {
      "cell_type": "markdown",
      "source": [
        "No cálculo, a integral de uma função foi criada originalmente para **determinar a área sob uma curva no plano cartesiano**. O processo de se calcular a integral de uma função é chamado de integração. A integral indefinida também é conhecida como antiderivada ou primitiva."
      ],
      "metadata": {
        "id": "tC14bQ0pfzrL"
      }
    },
    {
      "cell_type": "markdown",
      "source": [
        "Seja $f$ uma função contínua definida no intervalo $[a,b]$. Onde $f: [a,b] \\rightarrow \\Re $. A integral definida desta função é denotada com:"
      ],
      "metadata": {
        "id": "mk2am0UmiMjO"
      }
    },
    {
      "cell_type": "markdown",
      "source": [
        "$$\n",
        "S = \\int_a^b f(x) \\;dx.\n",
        "$$\n",
        "\n",
        "A ideia desta notação utilizando um S comprido é generalizar a noção de somatório. Isto porque, intuitivamente, a integral pode ser entendida como a soma de pequenos retângulos de base ${\\displaystyle \\Delta x}$ tendendo a zero e altura ${\\displaystyle {f(x_{i}^{*})},}$ onde o produto ${\\displaystyle {f(x_{i}^{*})}\\Delta x}$ é a área deste retângulo. A soma de todas estas pequenas áreas (áreas infinitesimais), fornece a área entre a curva ${\\displaystyle y=f(x)}$ e o eixo das abscissas. Mais precisamente, pode-se dizer que a integral acima é o valor limite da soma. A Figura abaixo representa a integral:"
      ],
      "metadata": {
        "id": "JZgGKBOjieAm"
      }
    },
    {
      "cell_type": "markdown",
      "source": [
        "![image.png](data:image/png;base64,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)"
      ],
      "metadata": {
        "id": "qVAi2EbIip4w"
      }
    },
    {
      "cell_type": "markdown",
      "source": [
        "A integral indefinida de ${\\displaystyle f(x)}$ é a função (ou família de funções) definida porː"
      ],
      "metadata": {
        "id": "qBLsXHnvmCzb"
      }
    },
    {
      "cell_type": "markdown",
      "source": [
        "$$\n",
        "S = \\int f(x) \\;dx = F(x) + C.\n",
        "$$\n",
        "\n",
        "em que ${\\displaystyle C}$ é uma constante indeterminada e ${\\displaystyle F(x)}$ é uma antiderivada ou primitiva de $f(x)$. Essa notação é lida como a integral de $f(x)$ em relação a $x$.\n",
        "\n",
        "É importante saber-se distinguir a integral definida da integral indefinida. Uma integral definida é um número, enquanto uma integral indefinida é uma função (ou uma família de funções). Como consideramos a integral como uma antiderivada, ou seja, o inverso da derivada, colocamos a constante $C$ pois a derivada da constante resulta em $0$, reatando assim apenas a derivada de $F(x)$ que nada mais é do que a própria função $f(x)$. Logo, temos uma primitiva para cada valor de $C$."
      ],
      "metadata": {
        "id": "6-Z3GvlImLkR"
      }
    },
    {
      "cell_type": "markdown",
      "source": [
        "Referência: https://pt.wikipedia.org/wiki/Integral"
      ],
      "metadata": {
        "id": "14AYFdmonEvE"
      }
    },
    {
      "cell_type": "markdown",
      "metadata": {
        "id": "nqiXHXg06cCb"
      },
      "source": [
        "\n",
        "## **Resolução de exercícios**\n",
        "\n",
        "Na resolução dos exercícios serão utilizadas o sympy e o scipy, para a resolução indefinida e definida das mesmas, respectivamente.\n",
        " [.](https://https://www.linkedin.com/pulse/python-para-cientistas-resolva-derivadas-integrais-e-teixeira-phd/?originalSubdomain=pt)\n"
      ]
    },
    {
      "cell_type": "markdown",
      "metadata": {
        "id": "FMlYtzAd6lS3"
      },
      "source": [
        "\n",
        "\n",
        "O primeiro exemplo desta parte será calcular a integral indefinida:\n",
        "$$\n",
        " \\int x^2\\;dx.\n",
        "$$\n"
      ]
    },
    {
      "cell_type": "markdown",
      "metadata": {
        "id": "YufRwWhl7Ajs"
      },
      "source": [
        "A resolução é feita invocando-se o método integrate da biblioteca Sympy."
      ]
    },
    {
      "cell_type": "code",
      "metadata": {
        "colab": {
          "base_uri": "https://localhost:8080/",
          "height": 54
        },
        "id": "wGR1jvDh6h8z",
        "outputId": "7305412e-89df-4578-c7c5-56e0ef9b7186"
      },
      "source": [
        "import sympy as sy\n",
        "from sympy.interactive import init_printing\n",
        "init_printing(pretty_print=True)\n",
        "\n",
        "# Declara a variavel simbolica\n",
        "x = sy.Symbol('x')\n",
        "\n",
        "# Declara a funcao\n",
        "funcao = x**2\n",
        "\n",
        "# Invoca o resolvedor da integral\n",
        "resultado = sy.integrate(funcao)\n",
        "resultado"
      ],
      "execution_count": null,
      "outputs": [
        {
          "output_type": "execute_result",
          "data": {
            "image/png": "[encoded data removed]",
            "text/latex": "$\\displaystyle \\frac{x^{3}}{3}$",
            "text/plain": [
              " 3\n",
              "x \n",
              "──\n",
              "3 "
            ]
          },
          "metadata": {},
          "execution_count": 2
        }
      ]
    },
    {
      "cell_type": "markdown",
      "metadata": {
        "id": "jAhD3n-p7I3C"
      },
      "source": [
        "Agora resolveremos a mesma integral, só que agora definida entre 0 e 5:\n",
        "\n",
        "$$\n",
        "\\int_0 ^ {5} x^2 \\; dx\n",
        "$$"
      ]
    },
    {
      "cell_type": "markdown",
      "metadata": {
        "id": "dhMMifQF7jI4"
      },
      "source": [
        "Nesse contexto, ao invés de usarmos a biblioteca Sympy usaremos o integrate.quad da biblioteca Scipy, que recebe como parâmetros a função e o intervalo de definição da integral.\n",
        "\n",
        "Esse método executa o método QUADPACK da biblioteca FORTRAN para resolver a integral."
      ]
    },
    {
      "cell_type": "code",
      "metadata": {
        "colab": {
          "base_uri": "https://localhost:8080/"
        },
        "id": "77jrLi5H7Uua",
        "outputId": "e0e56731-d3e5-4a97-a922-6480fa72b60d"
      },
      "source": [
        "# Importa o método\n",
        "from scipy import integrate\n",
        "\n",
        "# Declara a funcao\n",
        "funcao = lambda x: x**2\n",
        "\n",
        "#Calcular integral simples dusando o método QUADPACK da biblioteca FORTRAN\n",
        "resultado = integrate.quad(funcao, 0.0, 5.0)\n",
        "\n",
        "print(\"Resultado da integração:\" )\n",
        "print(resultado[0])\n",
        "print(\"Erro calculado da integração:\" )\n",
        "print(resultado[1])"
      ],
      "execution_count": null,
      "outputs": [
        {
          "output_type": "stream",
          "name": "stdout",
          "text": [
            "Resultado da integração:\n",
            "41.66666666666666\n",
            "Erro calculado da integração:\n",
            "4.625929269271485e-13\n"
          ]
        }
      ]
    },
    {
      "cell_type": "markdown",
      "metadata": {
        "id": "JzS09UZ_7wF6"
      },
      "source": [
        "Seguindo para um exemplo um pouco mais complexo, temos a resolução da seguinte integral indefinida:\n",
        "\n",
        "$$\n",
        "\\int (e^x sin(x) + e^x cos(x)) \\; dx\n",
        "$$\n",
        "\n",
        "Seguindo o mesmo raciocínio teremos o seguinte código e o respectivo resultado:"
      ]
    },
    {
      "cell_type": "code",
      "metadata": {
        "colab": {
          "base_uri": "https://localhost:8080/",
          "height": 39
        },
        "id": "5G1lKFjn7Uq6",
        "outputId": "06eeee61-d772-40ce-f978-074ffd8c5aea"
      },
      "source": [
        "import sympy as sy\n",
        "from sympy.interactive import init_printing\n",
        "\n",
        "init_printing(pretty_print=True)\n",
        "\n",
        "x = sy.Symbol('x')\n",
        "funcao = sy.exp(x)*sy.sin(x) + sy.exp(x)*sy.cos(x)\n",
        "resultado = sy.integrate(funcao)\n",
        "resultado"
      ],
      "execution_count": null,
      "outputs": [
        {
          "output_type": "execute_result",
          "data": {
            "image/png": "[encoded data removed]",
            "text/latex": "$\\displaystyle e^{x} \\sin{\\left(x \\right)}$",
            "text/plain": [
              " x       \n",
              "ℯ ⋅sin(x)"
            ]
          },
          "metadata": {},
          "execution_count": 4
        }
      ]
    },
    {
      "cell_type": "markdown",
      "metadata": {
        "id": "kXywYnbQ85gM"
      },
      "source": [
        "Agora a mesma integral, só que agora definida entre 0 e 1:\n",
        "\n",
        "$$\n",
        "\\int_0 ^{1} (e^x sin(x) + e^x cos(x)) \\; dx\n",
        "$$"
      ]
    },
    {
      "cell_type": "code",
      "metadata": {
        "colab": {
          "base_uri": "https://localhost:8080/"
        },
        "id": "snxXs9lA7NUd",
        "outputId": "db1dc2fa-a434-4d79-d13f-c30d0e9337f6"
      },
      "source": [
        "import scipy.integrate\n",
        "from numpy import exp\n",
        "from math import sqrt\n",
        "from math import e\n",
        "\n",
        "funcao = lambda x: sy.exp(x)*sy.sin(x) + sy.exp(x)*sy.cos(x)\n",
        "funcao = lambda x: (e**x)*sy.sin(x) + (e**x)*sy.cos(x)\n",
        "inicio = 0\n",
        "fim = 1\n",
        "\n",
        "resultado = scipy.integrate.quad(funcao, inicio, fim)\n",
        "print(\"Resultado da Integração:\")\n",
        "print(resultado[0])\n",
        "print(\"Erro do Cálculo da Integração:\")\n",
        "print(resultado[1])"
      ],
      "execution_count": null,
      "outputs": [
        {
          "output_type": "stream",
          "name": "stdout",
          "text": [
            "Resultado da Integração:\n",
            "2.287355287178842\n",
            "Erro do Cálculo da Integração:\n",
            "2.5394745053240374e-14\n"
          ]
        }
      ]
    },
    {
      "cell_type": "markdown",
      "metadata": {
        "id": "Q0pMGfBQ5Hjc"
      },
      "source": [
        "## **Problemas de acumulação**"
      ]
    },
    {
      "cell_type": "markdown",
      "metadata": {
        "id": "tAr_VyJj5LoK"
      },
      "source": [
        "Problemas de acumulação (ou variação líquida) são aqueles nos quais temos a taxa de variação de uma grandeza e temos que calcular o valor da grandeza acumulada ao longo do tempo. Esses problemas são resolvidos usando integrais definidas. \n",
        "\n",
        "\n"
      ]
    },
    {
      "cell_type": "markdown",
      "metadata": {
        "id": "BkFISU23KxAb"
      },
      "source": [
        "### **Problema 1:**"
      ]
    },
    {
      "cell_type": "markdown",
      "metadata": {
        "id": "gX0lHoBSHz3-"
      },
      "source": [
        "Imagine que temos as seguintes informações:\n",
        "\n",
        "\n",
        "\n",
        "> A temperatura de uma sopa está aumentando a uma taxa de $$r(t)=30e^{-0{,}3t}$$\n",
        "graus Celsius por minuto (em que t é o tempo em minutos). No instante t = 0, a temperatura da sopa é de 23 graus Celsius.\n",
        "\n",
        "\n",
        "Imagine que nos peçam para calcular quanto a temperatura aumentou entre t=0 e t=5 minutos. Isso é um problema de ***acumulação*** (ou de variação líquida). Nós podemos afirmar isso devido ao fato de que nos deram a função que representa a taxa de variação de uma grandeza e nos perguntaram sobre a variação dessa grandeza em um intervalo de tempo.\n",
        "\n",
        "Para qualquer grandeza cuja taxa é dada pela função r, a integral definida\n",
        "\n",
        "$$ \\int_a ^{b} r(t) dt$$  descreve quanto a grandeza mudou entre t=a e t=b.\n",
        "\n",
        "Então, em nosso caso, a mudança de temperatura entre t=0 e t=5 minutos é dada por:\n",
        "\n",
        "$$ \\int_0 ^{5} r(t) dt$$ = $$ \\int_0 ^{5} 30e^{-0{,}3t} dt$$"
      ]
    },
    {
      "cell_type": "code",
      "metadata": {
        "colab": {
          "base_uri": "https://localhost:8080/"
        },
        "id": "YA5AL3b5LkoM",
        "outputId": "9379b34d-d911-4857-81b8-47533f569ac9"
      },
      "source": [
        "import scipy.integrate\n",
        "from numpy import exp\n",
        "from math import sqrt\n",
        "\n",
        "# Declara a funcao\n",
        "funcao =  lambda x: 30*sy.exp(-0.3*x)\n",
        "\n",
        "inicio = 0\n",
        "fim = 5\n",
        "\n",
        "resultado = scipy.integrate.quad(funcao, inicio, fim)\n",
        "print(\"Resultado da Integração:\")\n",
        "print(resultado[0])\n",
        "print(\"Erro do Cálculo da Integração:\")\n",
        "print(resultado[1])"
      ],
      "execution_count": null,
      "outputs": [
        {
          "output_type": "stream",
          "name": "stdout",
          "text": [
            "Resultado da Integração:\n",
            "77.68698398515701\n",
            "Erro do Cálculo da Integração:\n",
            "8.624987833400712e-13\n"
          ]
        }
      ]
    },
    {
      "cell_type": "markdown",
      "metadata": {
        "id": "yE-UgAweL7ol"
      },
      "source": [
        "### **Problema 2:**"
      ]
    },
    {
      "cell_type": "markdown",
      "metadata": {
        "id": "il10gRWHL_H5"
      },
      "source": [
        "\n",
        "> A população de uma cidade cresce a uma taxa de $$r(t)=300e^{0{,}3t}$$ pessoas por ano (em que *t* é o tempo em anos). No instante t = 2, , a população da cidade era de 1.200 pessoas. Qual será a população da cidade em t =7 ?\n",
        "\n"
      ]
    },
    {
      "cell_type": "markdown",
      "metadata": {
        "id": "71NACOURMlAs"
      },
      "source": [
        "Assim, a expressão que pode ser usada para resolver esse problema é\n",
        "$$ 1200 + \\int_2 ^{7} 300e^{0{,}3t} dt$$"
      ]
    },
    {
      "cell_type": "code",
      "metadata": {
        "colab": {
          "base_uri": "https://localhost:8080/"
        },
        "id": "KF9D1SeBNAus",
        "outputId": "7f452d6c-7d2d-4f86-cb24-e55ee72445d4"
      },
      "source": [
        "import scipy.integrate\n",
        "from numpy import exp\n",
        "from math import sqrt\n",
        "\n",
        "# Declara a funcao\n",
        "funcao =  lambda x: 300*sy.exp(0.3*x)\n",
        "\n",
        "inicio = 2\n",
        "fim = 7\n",
        "\n",
        "resultado = scipy.integrate.quad(funcao, inicio, fim)\n",
        "print(\"Resultado da Integração:\")\n",
        "print(  resultado[0])\n",
        "print(\"Erro do Cálculo da Integração:\")\n",
        "print(resultado[1])"
      ],
      "execution_count": null,
      "outputs": [
        {
          "output_type": "stream",
          "name": "stdout",
          "text": [
            "Resultado da Integração:\n",
            "6344.051112177141\n",
            "Erro do Cálculo da Integração:\n",
            "7.043311614137893e-11\n"
          ]
        }
      ]
    },
    {
      "cell_type": "markdown",
      "metadata": {
        "id": "o5sTSBHsOlz1"
      },
      "source": [
        "**Erro comum: uso incorreto das condições iniciais**\n",
        "\n",
        "\n",
        "Alguns problemas de acumulação nos perguntam sobre a variação líquida e outros nos perguntam sobre o valor atual. A diferença é que, quando estamos buscando um valor atual, precisamos usar as condições iniciais.\n",
        "Um erro comum é usar as condições iniciais quando nos perguntaram sobre a variação líquida, ou não usar as condições iniciais quando nos perguntaram sobre um valor atual.\n",
        "\n",
        "\n",
        "**Erro comum: usar derivadas em vez de integrais**\n",
        "\n",
        "\n",
        "Problemas de aplicação prática são comuns tanto no cálculo diferencial quanto no cálculo integral. Quando temos um problema, precisamos decidir se sua solução deve envolver derivadas ou integrais. A decisão errada, é claro, nos levará à resposta errada.\n",
        "\n",
        "Derivadas são úteis quando temos uma determinada grandeza e nos perguntam sobre sua taxa, enquanto integrais são úteis quando nos dão uma taxa e nos perguntam sobre a grandeza.\n",
        "\n",
        "![image.png](data:image/png;base64,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)"
      ]
    },
    {
      "cell_type": "markdown",
      "metadata": {
        "id": "ExirPyCsNRpl"
      },
      "source": [
        "### **Problema 3:**"
      ]
    },
    {
      "cell_type": "markdown",
      "metadata": {
        "id": "izGF5w9hNVLV"
      },
      "source": [
        "\n",
        "\n",
        "> A profundidade da água em um tanque está mudando a uma taxa de $$r(t) = 0,3t $$ centímetros por minuto (em que t é o tempo em minutos). No instante t=0, a profundidade da água era de 35 centímetros. Qual é a mudança na profundidade da água no quarto minuto?"
      ]
    },
    {
      "cell_type": "markdown",
      "metadata": {
        "id": "X9KZEb_oN3RN"
      },
      "source": [
        "Assim, a expressão que pode ser usada para resolver esse problema é\n",
        "$$\\int_3 ^{4} 0,3t dt$$"
      ]
    },
    {
      "cell_type": "code",
      "metadata": {
        "colab": {
          "base_uri": "https://localhost:8080/"
        },
        "id": "DVaGnrMROT8s",
        "outputId": "945c8d6e-f1c9-4ae2-c549-c9b64997f64e"
      },
      "source": [
        "import scipy.integrate\n",
        "from numpy import exp\n",
        "from math import sqrt\n",
        "\n",
        "# Declara a funcao\n",
        "funcao =  lambda x: 0.3*x\n",
        "inicio = 3\n",
        "fim = 4\n",
        "\n",
        "resultado = scipy.integrate.quad(funcao, inicio, fim)\n",
        "print(\"Resultado da Integração:\")\n",
        "print(resultado[0])\n",
        "print(\"Erro do Cálculo da Integração:\")\n",
        "print(resultado[1])"
      ],
      "execution_count": null,
      "outputs": [
        {
          "output_type": "stream",
          "name": "stdout",
          "text": [
            "Resultado da Integração:\n",
            "1.0499999999999998\n",
            "Erro do Cálculo da Integração:\n",
            "1.1657341758564142e-14\n"
          ]
        }
      ]
    },
    {
      "cell_type": "markdown",
      "metadata": {
        "id": "WEW06gimOK4e"
      },
      "source": [
        "**Erro comum:** **escolha do intervalo de integração errado;**\n",
        "\n",
        "\n",
        "Como você acabou de ver, escolher o intervalo de integração correto é crucial para obter a resposta correta. Certifique-se de que não está escolhendo os pontos extremos errados, especialmente o ponto inicial, que geralmente é ignorado."
      ]
    },
    {
      "cell_type": "markdown",
      "metadata": {
        "id": "FMuYlyWT5cBt"
      },
      "source": [
        "## **Problema de Movimento**"
      ]
    },
    {
      "cell_type": "markdown",
      "metadata": {
        "id": "d2ovwNFCWCsm"
      },
      "source": [
        "Problemas que envolvem movimento são muito comuns em cálculo. Em cálculo integral, fazemos o contrário: dada a função de velocidade de um objeto em movimento, raciocinamos sobre sua posição ou sobre a variação em sua posição. A integral definida de uma função de velocidade nos dá o deslocamento. "
      ]
    },
    {
      "cell_type": "markdown",
      "metadata": {
        "id": "Qehf2AJwZquY"
      },
      "source": [
        "### **Problema 1**:\n",
        "\n"
      ]
    },
    {
      "cell_type": "markdown",
      "metadata": {
        "id": "scIYCG_wakbE"
      },
      "source": [
        "Uma partícula se moveu em linha reta com velocidade vetorial de $$ v(t) = (3t-1)^{1/2}$$ metros por segundo, em que t é o tempo em segundos. Em t=2, a distância entre a partícula e o ponto inicial era de 8 metros no sentido positivo. Qual é a posição da partícula em t=7 segundos?"
      ]
    },
    {
      "cell_type": "markdown",
      "metadata": {
        "id": "hYkbirCga-36"
      },
      "source": [
        "A expressão para resolver o problema é:\n",
        "\n",
        "$$ 8 + \\int_2^{7} v(t) dt$$"
      ]
    },
    {
      "cell_type": "code",
      "metadata": {
        "colab": {
          "base_uri": "https://localhost:8080/"
        },
        "id": "rJiUrEoYbObj",
        "outputId": "90af2525-7ac2-4808-cb62-19e9f98db38b"
      },
      "source": [
        "import scipy.integrate\n",
        "from numpy import exp\n",
        "from math import sqrt\n",
        "\n",
        "# Declara a funcao\n",
        "funcao =  lambda x: (3*x-1)**0.5\n",
        "inicio = 2\n",
        "fim = 7\n",
        "\n",
        "resultado = scipy.integrate.quad(funcao, inicio, fim)\n",
        "print(\"Resultado da Integração:\" )\n",
        "print( 8 + resultado[0])\n",
        "print(\"Erro do Cálculo da Integração:\")\n",
        "print(resultado[1])"
      ],
      "execution_count": null,
      "outputs": [
        {
          "output_type": "stream",
          "name": "stdout",
          "text": [
            "Resultado da Integração:\n",
            "25.39163982499836\n",
            "Erro do Cálculo da Integração:\n",
            "1.9308598969701008e-13\n"
          ]
        }
      ]
    },
    {
      "cell_type": "markdown",
      "metadata": {
        "id": "gn_CXiv1Y8cM"
      },
      "source": [
        "### **Problema 2:**"
      ]
    },
    {
      "cell_type": "markdown",
      "metadata": {
        "id": "4sWTmSfIZA5D"
      },
      "source": [
        "\n",
        "\n",
        "> Uma partícula se moveu em linha reta com velocidade vetorial de $$ v(t) = \\sqrt{3t+4}-2$$ metros por segundo, em que t representa o tempo em segundos. Em t=5, a distância entre a partícula e o ponto inicial era de 7 metros no sentido positivo. Qual é o deslocamento da partícula entre t=5 e t=8 segundos?"
      ]
    },
    {
      "cell_type": "markdown",
      "metadata": {
        "id": "UrfhFKbOi0lv"
      },
      "source": [
        "A expressão para resolver o problema é:\n",
        "\n",
        "$$ \\int_5^{8} \\sqrt{3t+4}-2 dt$$"
      ]
    },
    {
      "cell_type": "code",
      "metadata": {
        "id": "xDDxF3iDbgZ7",
        "colab": {
          "base_uri": "https://localhost:8080/"
        },
        "outputId": "492fd2b9-c25d-42a5-ff67-ba5894a4b5b3"
      },
      "source": [
        "import scipy.integrate\n",
        "from numpy import exp\n",
        "from math import sqrt\n",
        "\n",
        "# Declara a funcao\n",
        "funcao =  lambda x: (3*x+4)**0.5 - 2\n",
        "inicio = 5\n",
        "fim = 8\n",
        "\n",
        "resultado = scipy.integrate.quad(funcao, inicio, fim)\n",
        "print(\"Resultado da Integração:\" )\n",
        "print( resultado[0])\n",
        "print(\"Erro do Cálculo da Integração:\")\n",
        "print(resultado[1])"
      ],
      "execution_count": null,
      "outputs": [
        {
          "output_type": "stream",
          "name": "stdout",
          "text": [
            "Resultado da Integração:\n",
            "8.52066522052095\n",
            "Erro do Cálculo da Integração:\n",
            "9.459838712945146e-14\n"
          ]
        }
      ]
    },
    {
      "cell_type": "markdown",
      "metadata": {
        "id": "3aTKKlm_kgAI"
      },
      "source": [
        "### **Problema 3:**"
      ]
    },
    {
      "cell_type": "markdown",
      "metadata": {
        "id": "Pb-VuL9nkjLO"
      },
      "source": [
        "\n",
        "\n",
        "> Uma partícula se move em linha reta com velocidade $$ v(t) = -t^2+8$$metros por segundo, em que t representa o tempo em segundos. Em t=2, a distância entre a partícula e o ponto inicial era de 5 metros. Qual é a distância total percorrida pela partícula entre t=2 e t=6 segundos?\n",
        "\n"
      ]
    },
    {
      "cell_type": "markdown",
      "metadata": {
        "id": "wy2wdNK2lEbn"
      },
      "source": [
        "$$ \\int_2^{6} |v(t)| dt = \\int_2^{6} |-t^2+8| dt$$"
      ]
    },
    {
      "cell_type": "code",
      "metadata": {
        "colab": {
          "base_uri": "https://localhost:8080/"
        },
        "id": "0mIOl8FIAUKW",
        "outputId": "e352dc99-0a32-4486-846b-ad30f8a41ed5"
      },
      "source": [
        "import scipy.integrate\n",
        "from numpy import exp\n",
        "from math import sqrt\n",
        "from math import e\n",
        "\n",
        "funcao = lambda x: -x**2 + 8\n",
        "inicio = 2\n",
        "fim = 6\n",
        "\n",
        "resultado = scipy.integrate.quad(funcao, inicio, fim)\n",
        "print(\"Resultado da Integração:\")\n",
        "print(abs(resultado[0]))\n",
        "print(\"Erro do Cálculo da Integração:\")\n",
        "print(resultado[1])"
      ],
      "execution_count": null,
      "outputs": [
        {
          "output_type": "stream",
          "name": "stdout",
          "text": [
            "Resultado da Integração:\n",
            "37.33333333333333\n",
            "Erro do Cálculo da Integração:\n",
            "4.5330170811548814e-13\n"
          ]
        }
      ]
    },
    {
      "cell_type": "markdown",
      "metadata": {
        "id": "slfaIf5f_UUM"
      },
      "source": [
        "## **Função de Lucro**\n",
        "\n"
      ]
    },
    {
      "cell_type": "markdown",
      "metadata": {
        "id": "4--M0h2V2R5O"
      },
      "source": [
        "Para melhor avaliar o desempenho de uma empresa, há necessidade de determinar a função lucro. O conhecimento das funções matemáticas, bem como a sua elaboração de acordo com os custos e gastos de um produto, é importante para aqueles que almejam lucros e crescimento econômico e social. Dessa forma, temos o problema a seguir:"
      ]
    },
    {
      "cell_type": "markdown",
      "metadata": {
        "id": "eCnF36gO2xHa"
      },
      "source": [
        "### **Problema 1:**"
      ]
    },
    {
      "cell_type": "markdown",
      "metadata": {
        "id": "wP7GQvIz20RL"
      },
      "source": [
        "\n",
        "\n",
        "> Na comercialização em reais de um produto, a receita marginal é: \n",
        "\n",
        "$$ R_{mg}(q) = 200 - 20q  $$\n",
        "\n",
        "E o custo marginal: \n",
        "\n",
        "$$ C_{mg}(q) = 20q  $$\n",
        "\n",
        "No intervalo q maior ou igual a 1 e q menor ou igual a 5. Nesse caso, quais as variações totais na receita, no custo e no lucro? \n"
      ]
    },
    {
      "cell_type": "markdown",
      "metadata": {
        "id": "gVx1QN9K38V4"
      },
      "source": [
        "A variação total na receita é de:\n",
        "$$ Δ =  \\int_1^{5} (200 - 20q) dq $$\n",
        "\n",
        "A variação total no custo é de:\n",
        "$$ Δ =  \\int_1^{5} 20q dq $$\n",
        "\n",
        "A variação total lucro é de:\n",
        "\n",
        "$$ Δ =  \\int_1^{5} [R_{mg}(q) - C_{mg}(q)] dq $$"
      ]
    },
    {
      "cell_type": "code",
      "metadata": {
        "id": "9IusPAWB4bSk",
        "colab": {
          "base_uri": "https://localhost:8080/"
        },
        "outputId": "f188c078-4d42-488b-d1a2-4cbfc693eb8d"
      },
      "source": [
        "import scipy.integrate\n",
        "from numpy import exp\n",
        "from math import sqrt\n",
        "from math import e\n",
        "\n",
        "funcao = lambda x: 200 - 20*x\n",
        "inicio = 1\n",
        "fim = 5\n",
        "\n",
        "funcao2 = lambda x: 20*x\n",
        "inicio2 = 1\n",
        "fim2 = 5\n",
        "\n",
        "resultado = scipy.integrate.quad(funcao, inicio, fim)\n",
        "print(\"A variação total na receita é de:\")\n",
        "print(resultado[0])\n",
        "\n",
        "resultado2 = scipy.integrate.quad(funcao2, inicio2, fim2)\n",
        "print(\"A variação total no custo é de:\")\n",
        "print(resultado2[0])\n",
        "\n",
        "print(\"A variação total no lucro é de:\")\n",
        "print(resultado[0] - resultado2[0])"
      ],
      "execution_count": null,
      "outputs": [
        {
          "output_type": "stream",
          "name": "stdout",
          "text": [
            "A variação total na receita é de:\n",
            "560.0\n",
            "A variação total no custo é de:\n",
            "240.00000000000003\n",
            "A variação total no lucro é de:\n",
            "320.0\n"
          ]
        }
      ]
    },
    {
      "cell_type": "markdown",
      "metadata": {
        "id": "HpIuBPI3FV4T"
      },
      "source": [
        "### **Problema 2:**"
      ]
    },
    {
      "cell_type": "markdown",
      "metadata": {
        "id": "wa-2U1nYFYiA"
      },
      "source": [
        "\n",
        "\n",
        "> Na comercialização de um complexo aparelho eletrônico, o custo marginal aumenta exponencialmente segundo a expressão:\n",
        "$$ C_{mg}(q) = e^{0.15q}$$\n",
        "Obtenha a função custo total de produção desse aparelho.\n"
      ]
    },
    {
      "cell_type": "markdown",
      "metadata": {
        "id": "-CaWVqIkHpLh"
      },
      "source": [
        "A solução é obtida através da resolução da integral indefinida:\n",
        "$$ \\int e^{0.15q} dq$$"
      ]
    },
    {
      "cell_type": "code",
      "metadata": {
        "colab": {
          "base_uri": "https://localhost:8080/"
        },
        "id": "qth9nrjPFXS2",
        "outputId": "5463fac3-9dd1-4302-a0bb-97de0c922ad5"
      },
      "source": [
        "import sympy as sy\n",
        "from sympy.interactive import init_printing\n",
        "\n",
        "init_printing(pretty_print=True)\n",
        "\n",
        "x = sy.Symbol('x')\n",
        "funcao = sy.exp(-0.15*x)\n",
        "resultado = sy.integrate(funcao)\n",
        "print('A função solução é:')\n",
        "resultado\n"
      ],
      "execution_count": null,
      "outputs": [
        {
          "output_type": "stream",
          "name": "stdout",
          "text": [
            "A função solução é:\n"
          ]
        },
        {
          "output_type": "execute_result",
          "data": {
            "image/png": "[encoded data removed]",
            "text/latex": "$\\displaystyle - 6.66666666666667 e^{- 0.15 x}$",
            "text/plain": [
              "                   -0.15⋅x\n",
              "-6.66666666666667⋅ℯ       "
            ]
          },
          "metadata": {},
          "execution_count": 14
        }
      ]
    },
    {
      "cell_type": "markdown",
      "source": [
        ""
      ],
      "metadata": {
        "id": "LeNE-94uNSwB"
      }
    },
    {
      "cell_type": "markdown",
      "source": [
        ""
      ],
      "metadata": {
        "id": "fAhM2bQ1NSr7"
      }
    },
    {
      "cell_type": "markdown",
      "source": [
        ""
      ],
      "metadata": {
        "id": "m64a4yJsNSoG"
      }
    },
    {
      "cell_type": "markdown",
      "source": [
        ""
      ],
      "metadata": {
        "id": "fHkjcMa9NSk2"
      }
    },
    {
      "cell_type": "markdown",
      "source": [
        ""
      ],
      "metadata": {
        "id": "q42q9b-SNSbu"
      }
    },
    {
      "cell_type": "markdown",
      "metadata": {
        "id": "aNYJPXM9JFRA"
      },
      "source": [
        "**Exemplo na área da saúde:** file:///C:/Users/faria/Downloads/17220-Article-216786-1-10-20210705%20(1).pdf"
      ]
    },
    {
      "cell_type": "markdown",
      "metadata": {
        "id": "_C2mUEUuXPT8"
      },
      "source": [
        "Digamos que uma partícula se mova em linha reta, com velocidade de v(t)=5-t metros por segundo, na qual o tempo t é dado em segundos.\n",
        "![image.png](data:image/png;base64,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)"
      ]
    },
    {
      "cell_type": "markdown",
      "source": [
        ""
      ],
      "metadata": {
        "id": "G-OlQBRvNRDH"
      }
    },
    {
      "cell_type": "markdown",
      "metadata": {
        "id": "WFv00WKlXc3L"
      },
      "source": [
        "Quando a velocidade é positiva, significa que a partícula está se movendo para frente ao longo da reta e, quando a velocidade é negativa, significa que a partícula está se movendo para trás.\n",
        "\n",
        "Digamos que tenhamos que encontrar o deslocamento da partícula (ou seja, a variação em sua posição) entre t=0 segundo e t=10 segundos. . Como a velocidade é a taxa de variação da posição da partícula, qualquer variação em sua posição será dada por uma integral definida.\n",
        "\n",
        "Especificamente, o que queremos é $$\\int_0 ^{10} v(t) dt $$\n",
        "\n",
        "![image.png](data:image/png;base64,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)"
      ]
    },
    {
      "cell_type": "markdown",
      "metadata": {
        "id": "y6ZxLqi8X1ez"
      },
      "source": [
        "Curiosamente, esse deslocamento é igual a 0 metro (você pode ver no gráfico que as duas áreas são iguais em tamanho e opostas em sinal).\n",
        "\n",
        "Ter 0 de deslocamento significa dizer que a partícula estava na mesma posição nos tempos t=0 e t=10 segundos. Isso faz sentido quando se vê como a partícula primeiramente se move para frente e depois para trás, de maneira a retornar à sua posição inicial.\n",
        "\n",
        "No entanto, a partícula se moveu. Digamos que queiramos saber a distância total percorrida pela partícula, ainda que ela tenha terminado no mesmo lugar. As integrais definidas podem nos ajudar nisso. Para isso, usaremos uma reorganização inteligente. Ao invés de olharmos a velocidade vetorial v da partícula, vamos olhar sua velocidade escalar v (ou seja, o módulo de v).\n",
        "\n",
        "![image.png](data:image/png;base64,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)\n"
      ]
    },
    {
      "cell_type": "markdown",
      "metadata": {
        "id": "nr2MS785YeZe"
      },
      "source": [
        "A velocidade escalar descreve o quão rápido nos deslocamos, enquanto a velocidade vetorial descreve o quão rápido e em que direção nos deslocamos. Quando o movimento é linear, a velocidade vetorial pode ser negativa, mas a velocidade escalar é sempre positiva (ou igual a zero). Portanto, a velocidade escalar é valor absoluto da velocidade vetorial.\n",
        "\n",
        "\n",
        "Agora que sabemos a velocidade escalar da partícula em qualquer momento, podemos descobrir a distância total que ela percorreu, calculando a integral definida:\n",
        "\n",
        "$$\\int_0 ^{10} |v(t)| dt $$\n",
        "\n",
        "![image.png](data:image/png;base64,iVBORw0KGgoAAAANSUhEUgAAAZMAAAGWCAYAAAC90W7SAAAAAXNSR0IArs4c6QAAAARnQU1BAACxjwv8YQUAAAAJcEhZcwAADsMAAA7DAcdvqGQAADvHSURBVHhe7d0LfBTV3T7wJ/f7lZBsvEEqXkKhEqwV8IJCbV9C+yogvBReqxhqa1BQA7RA2lKLWhEQLQiC4A2woqBWia/6N2BVQmslKFZqoU28bogh2ZDb5rr//c2ehYC5z55NdvN8++6bOWf5dDqzM+c558zsToDDCURERCYEqr9EREQ9xjAhIiLTGCZERGQaw4SIiExjmBARkWkMEyIiMo1hQkREpjFMiIjINIYJERGZxjAhIiLTGCZERGQaw4SIiExjmBARkWkMEyIiMo1hQkREpjFMiIjINIYJERGZxjAhIiLTGCZERGQaw4SIiExjmBARkWkMEyIiMo1hQkREpjFMiIjINIYJERGZxjAhIiLTGCZERGQaw4SIiExjmPRIEXYuvg2zp03Eyr/bT9RtyhyDtR+pIhFRP8Iw6YGip/MQv3gNsobvR/5Bq6vyiwLkvToG6UNcRSKi/oRh0m02lJw1BmOiC5D/SCrGZaQZtfZD+7Fz6kgMDTeKRET9CsOk2+Ix+uoMhO/LxxrLTIwb4ao99PetyBidDourSETUrzBMeqjoYD4wbRwyXCXs312CzEtcJSKi/oZh0kO26goMTYp3FYoLkPfGHIwZ5ioSEfU3AQ4ntUzdUZyH+XO3AlekIbywAPeUzcB/Xs+C6woKEVH/wjDpieoi5L9tw8gJGZCxSeEDI5GbtAO7ZjFKiKh/4jRXD5S8PB/j5+ahyLlsP7ASuTunIHcqg4SI+i+OTHqieCfm37sfqWfbUVQ3EnMWz0B6tHqPiKgfYpgQEZFpnOYiIiLTGCZERGQaw4SIiExjmBARkWkMEyIiMo1hQkREpjFMiIjINIYJERGZ5ndfWjx27JhaIiKitkRGRiIiIkKVPMPvwsRqVY/R9YLPP/8c27dvx89+9jPExsaqWiKivqelOQAln0SioS4QyWktOGtIGMLCwtS75vllmERFRSEgIEDV6LF582YsX74cX331FRYtWmS8dKqurjb+So8iMFDv7GRDQ4PxCg4ORni4/ucQu7dNekpBQUHGsi6NjY2or6831uPpnllbamtr0dLSYuxH2Z86NTU1wW63G8eHHCe6ubdNGqSQkBBVq0dzczPq6uqM5eho/T+EJ+uSdYaGhhovnWQfyr4UuratsT4A770YieNlrrZj8MVVuOBSh0c7wX4ZJikpKdob3MsvvxzvvvuuKgGFhYUYMUI9w9fD5CMqKSkxlgcOHKi9UZLGvaqqymgkEhMTVa0+sm2yjQMGDNB+4spJW1lZaTR+SUlJqlaf0tJSo1FKSEjQHswSJBUVFUZQJicnq1p9ysrKjHCOi4vTHl7SuZEpbOkkWiz6H45dXl5udDpiYmK0h5fsQ9mXQrbN0x3hRjuw5xnAdlRVOF1wpQ2DhwV6NEx4Ab4HnnjiiRNB4u6RXX311Thw4ICxTETUF7QVJGdc0IAB5zjf8DCGSTdJkMyaNUuVgB/96EcYNGgQbDYbA4WI+oy2gmTwcODbV9ciMMjzE1IMk25YvXr1iSCRKRkhI5MXX3zRGOq7A2XPnj3Ge0REvaG9ILlkoipowDDpAhmNyJz3nXfeaZRvvPFGTJs2zVgWcq1ERiQXXXTRiUDhKIWIekNvBIlgmHSBhImEhIw+fvvb3xrl0w0ePNgYkUjQCFmWEQsRkbf0VpAIhkkXLF26FI8//jiKi4uN5fbEx8cbQVNUVIQHH3wQd9xxh3qHiEiv3gwSwTDpgquuugo33XSTERZdIaMUCZKu/nsiIjN6O0gEw4SIyIf1hSARDBMiIh/VV4JEMEyIiHxQXwoSwTAhIvIxfS1IBMOEiMiH9MUgEQwTIiIf0VeDRDBMiIh8QF8OEsEwISLq4/p6kAiGCRFRH+YLQSIYJkREfZSvBIlgmBAR9UG+FCSCYXKCHSVHimBvcpVsB7Zh7auuR+USEXmTrwWJYJicYEP+4m8hIiTAeAZzwq17kZau/1nTRESt+WKQCIZJa4OXYEfeLuwq+BgVb69B5mBVT0TkBY31vhkkgmHSWsxQjJmQicxR6YgPVnVERF7Q1BCIt7YF+GSQCIZJa1V7sWZxLu75zW2YvTgPRaqaiEgnCZKDryXCVqoqnHwpSESAw0kt+wWr1Wo8rz0wsLs5eRT/93ABLpx7HWR2q3jTD3Fjzf14a+4I19unmTdvHtavX48Z02/C408+qmr1kI+ovLzcWJZHBwcH6x021dXVoba2FiEhIYiNjVW1+si2yTbKumSdOtntdtTU1Bj7UPalbhUVFWhpaUFMTAxCQ0NVrR719fWorq42jn05B3SrrKxEU1MToqKiEB4ermr1aGxsxPHjx43rmYmJiapWH1mXrDMyMhIRERGqVo+6mma8+1wwaspPHvtnD23ByP9SdwN5mBwjcqzI5+bJ89svw8Qj3n8IZ2QBrx+Yh2HO4vTp042Dy00e4RuGFPzu53vw9sdr8I/Pd6l3gB07dqglIqL2uUckrYMk+dw6nH+5TZX08XSYcJrL7cgzyLnzGRxWRUPpQRxW2TRq1CiMGTPmxGtE+lVY+vO3EBEWhx9kLMG14+adeI+IqDO9GSQ6+OXIJCUlpdvTXLaXb0PCXfHYe3AZRjtH7PY35iPipwnYb12CDPVvWlt4x70YlnC7M0xiVI1rflPmOT1NPqKSEtd3XgYOHKh9mkuGwVVVVQgLC/PKlIJsm2zjgAEDtE8FyfSdTM/IdFpSUpKq1ae0tBTNzc3GtJPuqSCZwpNptaCgICQnJ6tafcrKyozRukwXynSQTg0NDTh27JgxzWWx6L9lX6ZeZSpIpiejo6NVrefUVAJ7d55615YEyZXXhxvbqJPNZjOmsjky0SR+dCZW3J1lBIl8gbHw7Xxk3j2jzSAR1Q1fYM32G9DUUq9qgPd2AcUHVYGIqA0SIKcHSVxqg8+OSNwYJm5JmchK2oaZt8zH/JsnYtPATdj6szT1Ztu+/Pqf+OirZxDU6poxA4WI2iMBcvr3SAae48CZQ2tUyXcxTFqJv2YJtm5YgRWb38Rjt2cgXtV3pKahFMPHgoFCRB1yB4l8w90teTBw7sUtquTbGCYeEOVMHQYKEbWnvSA577uq4AcYJh7CQCGitvSHIBEMEw9ioBBRa/0lSATDxMMYKEQk+lOQCIaJBgwUov6tvwWJYJhowkAh6p96EiQBAb7/3XGGiUYMFKL+pacjkqBQhgl1goFC1D/0x6mt1hgmXsBAIfJv/T1IBMPESxgoRP6JQeLCMPEiBgqRf2GQnMQw8TIGCpF/YJCcimHSC9oLFHkRUd/HIPkmhkkvaStQZHTCQCHq2xgkbWOY9CIGCpFvYZC0j2HSyxgoRL6BQdIxhkmbbMjLnoltX6iiZgwUor6NQdI5hklbDmzCsnWtjhovYKAQ9U0Mkq5hmHxDCbZtz0eCKnlTe4Hy97wAVSIibzpeFsgg6SKGyWns+7bC+t85GKPK3tZeoBx+1/kGEXlNTXkI/vZCBIOkixgmpyjC1jfSkDUqQpV7R1uBcvRIBAOFyEuqjgXh4GuJaKw/OSvAIOlYgMNJLfsFq9WK0NBQVeqe+j2rsCXpLmQNew+rktZi0IdPYMoZrvcKCgrQ0tLiKjht3LgR+/96GN8fOwmTJk1StS7p6elqyZy640H493sRaGk6eUBbzrdj6NgaVdKjubnZeAUGBiI4OFjV6tPQ0GD8DQkJQUCA3ik9+QybmpqM9cj6dGtsbIScYrIfZX/q5M/bJuuR9Yment9dVX0sGPtfiUVTw8ljMeHMRpw9TM91VNm2gOBGxA5s0L5tQo4ROVaioqIQGxuras3zyzDpmY/w+B9tmHH75QjD+3jojHU45/3HMCnV9e6gQYNOHMxuZwy8AKlJ56vSSRs2bEBYWJgqmWOvCkLx/phTAiVlSB3Ou8ymSkTkKTK1JSOSpoaT4RiX2oAzh+rtwAWHtRhh4k0Mk05ImMhO6m4Pt/LVB/DSBQvw029J6W94IPZhDD60BVPPNN7+hgULFuDlnXtw/bWzMHfuXFWrR+3xAPyrIOyUQDnzwkYMH6+npyQjBXlJjzM8PFzV6lNdXW38jYiIQFBQkLGsi3QI6uvrjfXI+nSrra01eoGyH3WP8qTHabfbjVFCZGSkqtXHvW3ScdI9EpKRcl1dnbEcHR1t/PU0udj+3ouRp0xtyYgkbUSTKukhTbBz64ww0bVtrckxIscKw6QTEiYpKSndHHaXIG/hHOy0qXu4mqzY+/ghpN4wDuNuWIEl13zzWkV2djZeej4fU6+7GQsXLlS1eshHVPJ51TdGKIOHA5dMVAUPksa9qqrKaCQSExNVrT4lJSXGNg4YMED7MF8awMrKSqPxS0pKUrX6lJaWGg1hQkKC9mCWRqKiosIIyuTkZFWrT1lZmRHOcXFx2sNLOjfHjh0zOokWi0XVek5bt//KiGTIxa6OgE5yfNTW24wwkW3TPdVrs9mMYPZ0mPACvMGCzOU78NiGx1yvu2ciHRnIuvexNoOkN4THNGPwyCp+D4XIw9oKEhmR6J7a8jcMk9PY9m3CylVbsdf5n62rVmLTvr5zbUIC5dtXtDBQiDykvS8k6rrY7s8YJqeJH5WFnFW7YHVYsWtVDrJG9a3bcSPjHPymPJEH8JvtnsUw8UF94qdXKoGPjqjlLvrofbVA1MsYJJ7HMPFRvR4odUCN6yasLqspVwtEvYhBogfDxIf1iREKkQ9hkOjDMPFxDBSirmGQ6MUw8QMMFKKOMUj0Y5j4id4OlJoDwBtbgBc3AqVSUQK8vBzY+6nxNlGvYZB4B8PEj/RaoDhP0kJneIz7vnPdxwDn/wExzv89oc63Kox/QdQrGCTewzDxM70SKM4TNn6EM0Sc67GfAaRJXZT8ejIQ285vmxHpxiDxLoaJH/J6oAwChlmAoiPO8LgAcP+SUWmN8+QdqApEXsQg8T6GiZ/yeqBUOkcmzle8M1gMzpO4yjk6OUcVibyFQdI7GCZ+rDemvELVr7p/tgeIudy1TOQtDJLewzDxc14LlDhgWAbw6fPAW38CvnAOSS5yjkyIvIVB0rsYJv2AtwLlnB8C12UBY6cDY4aqSiIvYJD0PoZJP9EbU15E3sAg6RsYJv0IA4X8DYOk72CYtGI/sBa3Zedi5V0zMXHhThTpffRzr/BYoAQB3X3Cbqj+x8lTP8Ig6VsYJm72fCxbaMPM5cuQs2otssqmYMqDhepN/+KRQBkIZHTzukjGFWqByCQGSd/DMHErK8GhN3Kx6Q15TG88UtOAwvcOyU9M+SVOeZGvYpD0TQwTt7MmY1n+m1hyjbOVhQ0VVsAyxOKMFf/VXqB8+GaYKhH1LTXlIQySPophckI40q8eh7Ro52JJPna+MAMrbxl34qdB/FVbgfLloRAcftefY5R8kQTJh/+XwCDpowIcTmrZL1itViQkJCAwsCc5acOe5b/Cuv9nxeB5D+H+ic4jtR3z5s3Dn3fsxvXXzkJOTo6q1UM+oupq1zNyIyMjERQUZCx7Uk1lAA69E4TmRlXhZDnfjkt/pL+/UV5ebmxjbGwsQkJapZoGdrsdNTU1CA4ORlxcnKrVp6KiAi0tLYiJiUFod+9Y6Kb6+nrjOJFjX84B3SorK9HU1ISoqCiEh+vtdh37qhn7doahqeHk8Zh0jgPnjmxWJc+qra1Fc3MzwsLCtH9usp6G5mrEDmxAYmIiAgIC1Dt6yDEix4p8bnLOeYpfhol59Xhn2Vg8HLcWT99+MWTSZ/r06WhsPNnSFhcXI6ApFheeewlSU1NVrcuiRYvUkm+xVwWheH8MWppOHswpQ+pw3mVyHYmod8iI5OBriacESVxqA84cWqNKvi84rMUIE2/ydJhwmuuEehw/Xq+Ww3D+sGF4577NeNN40hMwatQojBkz5sTLHSDyYVx44YWnvHxVeEwzBo+sQmDwyf7F0SMRnPKiXtMfgsRf+OXIJCUlpdvTXCXPzUTqNGCHdSsmW5zlZ6YgdQaw9fMdmHGW+ketZGdn46Xn8zH1upuxcOFCVauHfEQ2m2t0IOGlY5qrtfLSenyyN/SUEcrg4cAlE1XBw0pKSoxtHDBggPYpBZm+kOkZmU5LSkpStfqUlpYa0xgy7aR7Kkim8GRaTY6P5ORkVatPWVmZMVqX6UKZfvW0tu7aincGybcv03uMiKqqKmMKLyIiQvvnJsdHbb3NGJlYLBbt01zSltTV1XFkokt8UhoyZk1BhjNIhPWLIlhumIlxbQSJv4uMdXxjhMLbhsmb2goSGZGcwRFJn8UwUcKvzsWmK/YiN3s+cm+ZiNyv5yP/kclQ2dLvyJTXud+r4/dQyOvaChK52M6prb6NYXJCuHNksgJbH1mBZRt2YdfyGUiX24T7sQhnoPCLjeRN7X0hUdddW+Q5DBPqEL8pT97Cb7b7NoYJdYqBQroxSHwfw4S6hIFCurQVJKnnMUh8DcOEuoyBQp7WVpCcPRT41kWqQD6DYULdwkAhT2krSM67BDiHj3z2SQwT6jYGCpnVXpAkD1IF8jkME+oRBgr1FIPEPzFMqMcYKNRdDBL/xTAhUxgo1FUMEv/GMCHTGCjUGQaJ/2OYkEcwUKg9DJL+gWFCHsNAodMxSPoPhgl5FAOF3Bgk/QvDhDyOgUIMku4JDPL9ZxQyTEgLBkr/xSDpvqBWD6LzVQwT0oaB0v8wSPovhklrxXnInTER44cPxcSFeShS1dRzDJT+g0HSvzFMTijBtuWHMGXbLrx5cBdmFk/EzPsK0eq8oB5ioPg/BgkxTNyO7MLW1DHIMAppyLxhDgoW70ChUSaz3IEif90YKP7h+NeBDBJimLjZDhUibUS6KgHxCdLqFcFa4iqTeUagXPnNQPnXO3GqRL6mpjwE+3aGMUiIYeJmt1dg7S25yLO5ykWHCoARI5FmcZXJM4JCvxkoR49E4PC7rSrIJ1QfC8bB1xLRWB+gahgk/VmAw0kt+wWr1YrQUGeL1V1fvYJf/voz/O8j2RiO97Dqhzfi6KIC3P9DV6+5oKAALS0txrLYuHEj9v/1ML4/dhImTZqkal3S00+OcDylqanJ+BsUFISAgJMnrw6ynfKS9cj6dGh2bs6//xYJe9XJ/37L+XYMHVujSnrIdsm+lG0LCWl1EUeTxsZGyCkWHByMwEC9fTdPb5v8b3Z//vLf29zcbCwLCZL9r8SgqeHkNp01zI7EMxtVybNkH7rXL/+7dJN1yTrlM9P9ucl6QqPqERHb1LO2q5vks5RjJSoqCrGxsarWPL8ME7M+2vBjLKpZiufvvBhhqm769OlGw+BWXFyMgKZYXHjuJUhNTVW1LosWLVJL1JHmxgAUF8agvlWgpAypw3mXqeEh9Sp3Z0L+tj72ZWpLRiStgyQ1vQYJZzSoEnWXBIm8vIlh0gkJE9lJcgL0hP29BzA7fywe++X3EK7q2rJgwQK8vHMPrr92FubOnatq9bHbXZPSYWFhPd62rpKei7ykR6a7p9TkDJRPCkJOCZQzL2zE8PF67qOTRrG+vt5oJCMiIlStPrW1tUYvMDw8XHuPWj4zOU7kc4uMjFS1nnW8LBDvvRh5ytTW2cPtGHiO3mZE9mFDgyusZF/qJuuSdcpnpvtzkyY4MKzGCJPo6GhVq48cI3KsMEw6IWGSkpLSs6FpWR5uW2hDzuYZSHMW7V8UwWZJg6WNYyk7OxsvPZ+PqdfdjIULF6paPeQjstlcvXX58HVNPbnJwVZXV2ecRDExMapWn7KvK1G8P/qUQBk8HLhkoip4kDTulZWVxjRQUlKSqtWntLTUmDJJSEjQ3gjK51ZRUWEcH8nJyarWc9q6/VdGJGcOCTY6OTpJ41dVVWUsy77UTdYl65QOh+7PTY6PRpQbYWKxWLR3FqUtkfPb02GidzLQpxRh22/ykPETC4p25yPf+dq6fCes+qdn+72g4BYMzqhCZNzJfg1vG+5b2goSuUbCqS1yY5goJc/lYua6tZj9g/EYP871mm1Lw6lXQ0iXoBAH0i9v5vdQ+qD2vpDIIKHWGCaKZepWYzrplNdTk8E7g70nOKTt76EwUHoPv9lOXcUwoT6lre+hMFB6B4OEuoNhQn0OA6X3MUiouxgm1CcxUHrP158xSKj7GCbUZzFQvE/2755tDBLqPoYJ9WkMFO9pa78ySKirGCbU5zFQ9GOQkFkME/IJDBR9GCTkCQwT8hkMFM9jkJCnMEzIpzBQPIdBQp7EMCGfw0Axj0FCnsYwIZ/EQOk5BgnpwDAhn8VA6T4GCenCMCGfxkDpOgYJ6cQwIZ/HQOkcg4R0Y5iQX2CgtI9BQt7AMDldUwnyfr8JhapIvoOB8k0MEvIWhskJh7Dtp1MwOzsHub8pQavfuSMfwkA5iUFC3sQwOSEdM57agcd+MxFpqoZ8U0eB0lgfoGr8G4OEvI1hQn6pvUDZtzMMTQ3+fdiXHA5nkJDXMUzIb7UVKMe/DsTB1xKdgeKfI5SjRyLwyduxquTCICFvCHA4qWW/YLVakZCQgMDAHubkl3/C/3yrGHfW/wqjVFVb5s2bhz/v2I3rr52FnJwcVauHfETV1dXGcmRkJIKCgoxlXRoaGlBfX2+sR9anW1VVlfE3IiICwcHBxrInNTUCh94JQm3lyQCJHtCEK6e3ICRMVWhSUVGBlpYWxMTEIDTUmW4a/eeDFhx8M1yVXL41shkDz9FzitfU1BjbFhYWpn3bmpqaUFdXZyzLvtSttrYWzc3NXtk2WY8j+DgiYpuQmJiIgAC9HR1pS+T8joqKQmzsqR0PM/wyTEyxvoDZF3+GW7+ah4tVlZg+fToaG52tklJcXIyAplhceO4lSE1NVbUuixYtUkvUVzQ3BqC4MAb1VSeDOCqxEcN/WI7g0BZV47tkRHL43VZDMKfU9BoknNGgStSXSZDIy5sYJp2QMDHVk/hqB276zqeYU3YXLlFVoqCgwOiFuW3cuBH7/3oY3x87CZMmTVK1Lunp6WrJc6RnJmS0oLvnItspL1mP7lGQ8Na2NTtX8++/RcLeKlBkhDLyR8edgaLnNJAOiJxiMuLq8Wi5E9Z/heHQW9Gq5HLWMDsSzzzZ+dHB/bnJdunaNjfZh9KDFzpGr6czRgvOdXpr20Kj6o0w0T0KEvK5yfnNMOmEhElKSkrPD4AvtmHK2UWY71iC0aqqLdnZ2Xjp+XxMve5mLFy4UNXqIR+RzWYzluXD193A2+12Y0pBTlpvTCnIVJCQdeluKGqrG/Dxu0GnjFDiU4CrfgKEnDpD5BGlpaVGwyRTr+Hhnl9BW3dtnfntWgxO1z89efz4cWPbZCpUpoN0kgbQPR0q+1I3WZesU6ZedXxurck+bES5ESYWi0V7Z1HaEjm/PR0meiOXqI8JCnFgcEYVwmNcvVxhOwrsecY5ivCxLxe1FSSuqS29IxKitjBMTihC3gMrkXv3JuzFGuTekouVjxfANR4gfyKB8q1Lak+5y8vXAqWtIEnLcI6AeI2EegnD5IQ0ZC7IwbINb8LqsOLNDcuQM2s0Tr2kSf4iKNjxjduGfSVQ2vtCYtLZJ0dbRN7GMKF+q63vofT1QGkvSPg9EuptDBPq13wpUBgk1JcxTKjf84VAYZBQX8cwIXLqy4HCICFfwDAhUvpioDBIyFcwTIha6UuBwiAhX8IwITpNXwgUBgn5GoYJURt6M1AYJOSLGCZE7eiNQGGQkK9imBB1wJuBwiAhX8YwIeqENwKFQUK+jmFC1AU6A4VBQv6AYULURToChUFC/oJhQtQNngwUBgn5E4YJUTd5IlAYJORv+k2YFBcXG4/7vOmmm1QNUc+ZCRQGCXnD0qVLjUcA79mzR9Xo1W/CRHasPPvY/Sx1X3Ps2DF89dVXqqTfv/71LzQ0eOepffKZfP7556qk37///W/U1taqUs91JVDKy8tx8KAzPRTdQSKdJvez0nWTfSj70lvkGPHW+SvH/uHDh1VJv08//RRffvmlKnmGHAvid7/7nfFXt34RJgcOHMCTTz5pLPvqyGTv3r3Yteu0VkijBx98EF9//bUq6SWfz3PPPadK+q1fvx6fffaZKpnTWaAUFBRg0aJFRr03RiRynH/yySeqpJfsQ9mX3iLHyAcffKBKesmxv2rVKlXSb8uWLdi5c6cqecYdd9xh/JWRyRNPPGEsd98hrB09EZtcudQhvw8TaaiuvvpqY/miiy7CddddZywTeUpHgRLgcL7p9PnHQZzaIq8aMWIEbrzxRmP5zjvvNNrCbjuyFzv3ZWDoYFXugF+HiTtIZGgsQeKtuUPqf9oLlIjyCbjkvBk48HqIqnVhkJA3rF692mj7pA2UtrC7gWI7VIj8W8cgXZU74rdh8uKLL54Ikri4OGOYFx/f6kwn8rC2AiWwKRHjR+SokguDhLxF2jzpRLsDJSMjo2tTk39fi/E/GI8xt6yF5e2VmPKD2dh2RL3XjgCHk1r2C1arFeeddx5qamqMcmhoKAYOHIjg4GCj7CkVFRWIDktF2lnfQWxsrKrVR7anubnZK+sSMmcsd795er+1pa6uDvX19V4Le7mZISYmxjg2dAgNicCE7y1EYszZquaktw9uxpEv96qS58lxGRkZibCwMFWjj1yklov9AwYMUDV6SWMo2xUREaFq9GlqajL2pbQd3rD/H6+jvqnK6Pjq0NLSgqNHj564qWbMmDH405/+hLPP/uYxelIhVmZkwr7RiiXfVVUd8MswOeOMM1RJr/i4AWhuVAWiViLD47Dwp3/G2SnfVjXA5j/fjnc/eEaViE6qrT/u7Cx6tzF55513cNlll6lSG77Yhiln78ecuhUYF67qOuCXYSJ3tDz99NP4+OOPjbqxY8fiF7/4hbHsKY8//jhef/11jB49GnPnzlW1+mzfvt3oWcyZMweBgXpnJ6X3IvtryZIlOPfcc1WtPnl5ecZdOgsXLkRQUJCq1aOxsRE5OTm4+eabjQuUWrWEou7flyI65Ew0JRQgIO5T9YYe0pv+zW9+gwkTJuCKK65QtfoUFhYa08crVqxASMip14Q8TUbl999/vzFNI9un25EjR3Dfffdh3bp12kawbjJqWLNmDSwWC6ZNm6ZqPevVV1/FU089ZSwnJSUZU13XXHNNhzMd9jfmI2LjSFi3z4BF1XVIwsSffPXVVw7ngWcs33jjjRKUxmvevHlGnafceuutxn+v88NXNfo4DzbHr371K2NdzsZQ1epTVVXlcB5kjr1796oavR544AHH97//fUd9fb2q0aempsYxePBgx5///GdVo9fjm7Y4pv/4LkddXZ2q0UfW4WxsHc6OjqrR66WXXjL2pexT3eTYGD9+vMMZXKpGr3fffdc4B+Rc0M3ZeXNMnTrVsWjRIuNc9zQ5HtztoLSJxcXFRjtZWVmp/kXb9t9rcWSs2m8s1xW+6djfya7w67u5pNfkDBFj+aGHHjJxrzVRzzgCGvCvL3kXIfUOuRFp1qxZxrLcJixtYNeuy5TgUGEJxg2T+7iKsPVVO9KiXe+0x++/ZyK3xrnvtZad6v5WKBGRP5MbFk4Pkq6zYNxPsnDomZW45/f5GHl7Jjq7Pcbvw0TIThw0yHUvpoSLLzrrrLMwZMgQVdLve9/7nnFXkDekpKTgwgsvVCX9ZN5d110zp5M7nYYPH65K+n3nO9/x2t1VcvfdxRdfrEr6paenG8eKN0RFReHSSy9VJf3kDlQ5xz1J2j33VyN60u5ZJj2GXZuXYMmvs5DRyahE+OUFeDngTr9ILTtWUlouxnviy4vZ2dnGxTm5YPbss8+qWj3kIyopKTGWddzmfLrq6mrjlk+5DTMxMVHV6iPbJtsojaDui53ye1KVlZXGBWO5EKlbaWmpcfFYbrMOD+/CLTEm2O1243ZWuYkhOTlZ1epTVlZm3NAgjZXujofcFCK3dMsPF8qFat3kN9XkdnW5hTw6ugstqQmyD2VfCtk22UZPuOqqq/DWW2/ht7/9rfHbhG4SMHI7vgSmJ79q0C9GJkJ+k0t+b6p7Qz0iIt8kbZ20ee7f6NKt34SJkJ06eHAXfmSGiMjHSVsnbZ63vgzcr8KEiIj0YJgQEZFpDBMiIjKNYeJDjv/zGTz4iuuuLq0+ew33Z9+A6y4fjYkL81CkqvUowpvLF+PuB+7HLybfiLV/99aTMCuRlz0T275QRR3KinC4vN61bD+K/Ps2odBV0ub4Xx7CzXcsRe7c2Vi5r4sPpO+BkmfmY9OBShw/fty4O07uEJKXrjUW7/otliy7H3/IzUHuC3qPSOeHhQ83zkPOfeux5NY5WHtAz1bZPtqElS+ffj7bUfjH2Zi9eCVyb5mtbd1ayK3B/qT1z6no5M2fUyl/7feOzOtmOX4yDo5JT3+uanWxOjbNvsfxunM/Hju237F1Khyj793v0PVjIP/ZnOmY8cgHxudW/7f7HRnIcuz4Wr2pgfz0h6zr692/c4zGZMdWnbuzYNmJn7EAUhyZq/TtR1Hy/C8cF9/5suOzo0cdFXlzHGk37HB+mnrsX5XRatvUyzLHsatC/QNPOrjG8YvNnxifm9VqdfxnwwzHikL1ngbW7TMclyzdbayvquQVR86oZY69HvzgKl5f5pj8kzmOrAlwTN5mNX5ORdYlr/KX5jgyH/lY/cuPHWsm5Dje9PAvulRUVBjr6uznVLqLIxMfEH/NEjz2yD2Y4Y3vhx3Zhe2WURhmFAYh84Y5KFi8Q1uPuuSLPGx7YCc+kkKSBWnYhEOdPDfBvFLseOltJKiSTjPu34qnt2zHviP/xK47M6DvmyaFeOL3/8SMqRfD9ePz4UizhGtbn71pHNa/sBPbn9uOvFfz8ObDWZjxcC4yNdw4VHIwH/Gt7sJMGz4Uew/pGqEXYuu92zDoHPVdlqgLMfLsXOx423MjBDmfd2xbg6zRquKEUuQ/vxZjMtyPokrHyNErsXO3t0br5jBM6BTyZLVB37lAlZwHfoK0DkWwajp3R9+6H1vWzXCFV1mJc02ZsGj+LmH9+ztx9IfZGKPKOg0a/n2MH3c5LjpT7xcW8fc8PPjBVThftbnxE1bgzeWd/wRGzzg/J8sUTLn8Clx+2eUYe2U8DlknY+1UPV8mDI9OxR8WzUPe565y0cGPMSZd1xcX7bAfAC4489QvfeZ/dEgt6fQ5Dj2tFltZe8Ab6zaPYUKnsNsrsOH2u/HmcVe56FABMGKks5frKntcUgbGX+T6Fu6B155B+N25mKn1V2OKsfMv52DmdzU37sqHL63G/Q+sx9I5t2qd/y45vB9Hx4fjs+cfwuq1SzH75rUorFZvepwFM2442a3+YN2LSLtLV3BJTz4L94e/gNmX/hg5v1+MtcG5mKP56QGnK6z2wrWL0qNoMzaq6rRdi/IkhgmdwjJ6Cm4ZMwgpMldS/x62PfIx5tydhQzX23r8cydy5t6AXx6ZhbW3jtY4FeQMy/ztsP8gE175Za5gCy659lb8csEvsHTl/6BownzkuX41Q4+P9sA+Yh7umLMUa37iHOMtzIP2CRLrC1hd+V/I1DmaDM/ATfN+gssv/Np5PD6OvYXOkbJ6y/MssExwBuSnpapsR523Zpma69sOjeIS/Z+jBzBM6FRnTcbKp+ZimDNMPtz8a+yavBMrfqz5G7QXOtf58NN47ZdhyB09Gzu1/bBzIZ7cfylmnHz4oV7fzcKtF6vH54anY+QVa7F1t8a78Y6OwvlqVBeekACs24p8zTf/ffTyOli+d5Eq6WHfdw9+9cUsbM9/C395ZBbwx4m47XFdd3SlYeadOTh48BMY9+H95wMUVBlv6BcVi1S1eIrBFm2jPk9imFCb6t9/CCtrfo/8X+sdKaDahvomtXxuOsYc2YQ5z+i53G97OQ/hk8aqC9S62ZD/+9lY/W6lKrts+6eeRlCuK+C/B+PEE8staRgj8//ufavFQbzzXCkS4nUeISXIe8SK6/5HflU6DOdNuhf5by+B9dUC5zt6hF+zAi9c/h7unrsEDxyxYNzZwIwL09S7GsXGt/1Ew5gIveeghzBM6JuOvYa7t5yDu+dfYhzE9i+KUKKlUSrEPecl4HuPGPdynVDSpGOGuAR7396Pvz6YjZwFObhj7ipsda5/0+LZuOcNHZMIRSjcuQsffuUOkzpjukRXoxSfnoGr/lyMr1UZJUXY6+znxuv8wdvST3HwH9/FYM2/Cm+3x6P1z0uFXz4RU3T+AnNJISq/cxfuefgeLPhBGKyHszDlal0XDVs7G+k3qEW3RmDOCPfdXX0bw4ROU4Tty17HsEkD8dk7byN/dz62Lt8Jq5ZfvXf2xDLG4eax57mKxt1co7Fsgo4rNBZkLt+BR9Y8gpUPrMTqX12PdGQg697HsOQaHZMIGRg3dz6yM89xFT/9K/IO5iBrgqZGachE3DR5H/6lpghtnxch9dczMU7n/MhXh/GuWtTHgtHXHMILr50MfPs7+bD+eEzbvXgPKNg4Ev+z6T1j2V7wEvKnzdF7TeiEZIy7fg72Frovwxdi7xvOdY/2hUmufvQ8E0/z5vNMKgoew+q89/H3LeuRFzQJOT+/DOMm5SBTw11PJc/NROq0baqk3LAD1qcm6zl5i/OxaOlaHE1MRt1+G767bB1yLtd38sjzTD7PX49nd72Kdes/wsg752PytCxkjdKwzupDWD0/Fx8GxaG8JBY/XbkakzX+aLX9y//D0lufwvFzAlAZOwXL7p6MNI2Pvil77yFM/9EHmHNgDSal6nyeiQ1/+cNduPujMAwLL0X1RblYc7u+7+zYD2zCbfcVICS6HLXfug0PLRnn0WsWtn2bsOntQ9i7YSV2YjLuzLoUI8fegPHOY8NiiceBNbdjrTUdlrJDSM1e4xyZeHZLdT3PhGHSQ3w4lufw4ViewYdjeY4/PByrPXw4FhER9VkMEyIiMs0vp7lk+KZ7qLhgwQI8+uijuP7667F582ZVq49MPQmZTtA9hSdTCvKS6TTdUzPCvW0RERHGFI1OMqUg0xeyHlmfbjKt1tLSYuxH3dOTTU1NxlSXHB+6p52Ee9tkOlSmDXWSqUKZmhG6p52ErEvWKdOuuqdeZR/KvhTe2DY5RuRY4TWTTkiY6DB9+nSjIXIrLi421iXXMIYMOfVK+I4dO9QSEVHfxDDphDTwOnoSBQUFRg/CbePGjXjllVdw5ZVXIicnR9W6XHbZZWrJc2SkIKQHqHvUJT0yeUkPV3dvWnhz2+QzlF6ZrEd3b1pIB0ROMdmPukeU/rxtsh53Z073SEHIfpT9KSNY3aPl3to2hkkneDeXebyby3N4N5dn8G4uz+HdXERE1GcxTIiIyDSGCRERmcYwISIi0xgmRERkGsOEiIhMY5gQEZFpDBMiIjKNYUJERKYxTIiIyDSGCRERmcYwISIi0xgmRERkGsOEiIhMY5gQEZFpDBMiIjKNYUJERKYxTIiIyDSGSWvFecidMRHjhw/FxIV5KFLVRETUMYbJCSXYtvwQpmzbhTcP7sLM4omYeV8h7OpdIiJqH8PE7cgubE0dgwyjkIbMG+agYPEOFBplIiLqCMNEsR0qRNqIdFUC4hPinf+/CNYSV5mIiNrHMFHs9gqsvSUXeTZXuehQATBiJNIsrjIREbWPYaJYRk/BnCvSkBruLNgLsO2RjzHn7iw17UVERB0JcDipZb9gtVrVUs99tOHHWFSzFM/feTHCVN3q1avR3NysSsDu3buxf/9+pKenIzMzU9W65OTkqCUior4pKioKsbGxqmRePwyTUrzw8xGY87Iq/ngtDjw6CcmqWP/+Q5jzl8uxtlWQiOnTp6OxsVGVgOLiYmNdAwcOxJAhQ1Sty44dO9QSEVHfxDDphDTwCQkJCAxsfwbPbrO1uuU3HPHxMrflVPZ/mLfYhjs3TMdgZ9H+ZTEqUwYjJdj1dmvz5s3D+vXrMXXqVGzZskXV6iEfUXl5ubEcFxeH4OA2/gd5UF1dHWpraxESEuLRg609sm2yjbIuWadOdrsdNTU1xj6UfalbRUUFWlpaEBMTg9DQUFWrR319Paqrq41jX84B3SorK9HU1GQ0SuHh6hzSRDpyx48fR0BAABITE1WtPrIuWWdkZCQiIiJUrR6yD2VfCtk22Uad5BiRY4Vh0gkJk5SUlA7DpG1F2Ja9EnWTJiNNtdVFLxRi5MM5bV43yc7Oxrp16zBt2jQ8++yzqlYP+YhKSly3lclISHeYyMFWVVWFsLAwr5y4sm2yjQMGDNDe4EpIyokroZWUlKRq9SktLTWmR6Vx193gSlBKeAUFBSE52T3W1qesrMxocCWUpdHVqaGhAceOHTMaWotF/10x0sGRBlc6AdHR0apWD9mHsi+FbJvuMLE5O9PSYfR0mPACvFLyXC5mrluL2T8Yj/HjXK/ZtjSkqveJiKh9DBPFMnWr0Ts+5fXUZPDOYCKizjFMiIjINIYJERGZxjAhIiLTGCZERGQaw4SIiExjmBARkWkMEyIiMo1hQkREpjFMiIjINIYJERGZxjAhIiLTGCZERGQaw4SIiExjmBARkWkMEyIiMo1hQkREpjFMWrEfWIvbsnOx8q6ZmLhwJ4qa1BtERNQhhombPR/LFtowc/ky5Kxai6yyKZjyYKF6k4iIOsIwcSsrwaE3crHpDZuzEI/UNKDwvUMocb1LREQdYJi4nTUZy/LfxJJr4p0FGyqsgGWIxRkrRETUGYbJCeFIv3oc0qKdiyX52PnCDKy8ZZyzloiIOhPgcFLLfsFqtSIqKgoBAQGqpjsq8dbKJdi4uwSD5qzEPRMGqfpvWrBgAR599FFcf/312Lx5s6rVp7q62vgbGRmJwEC9fYCGhgbjFRwcjPBw/XHq3raIiAgEBQUZy7o0Njaivr7eWI+sT7fa2lq0tLQY+1H2p05NTU2w2+3G8SHHiW7ubQsLC0NISIiq1aO5uRl1dXXGcnS09Pj0knXJOkNDQ42XTrIPZV8Kb2ybHCNyrEg7GRsbq2rN88swMa8e7ywbi4fj1uLp2y9GmLNm0KBBRkPUFUeOHPHKyUxE1FMMk05ImHTckyjFjqyh+PlLqnjto/h40xQkOwOkshKIi5PocP6rnTdh6C1heOLjR/GjZKCgoMDoQbht3LgRr7zyCq688krk5OSoWpfLLrtMLXmOjBSE9AB7NurqOumRyUt6uLp708Kb2yafofTKZD26e9NCOiByisl+1D2i9Odtk/W4O3O6RwpC9qPsTxnB6h4t99a2MUw6IWGSkpLS4cFtt9lgV8tyrSQ+Phwlz81E6jRgh3UrJluAkmemIHUGsPXzHZhxlvqnrWRnZ2PdunWYNm0ann32WVWrh3xEJSWu+8oGDhyovYGXaaeqqipj+iIxMVHV6iPbJts4YMAA7SeTTCdUOnsN0tgmJSWpWn1KS0uNYE5ISNA+ZSjTFxUVFUbjl5zs7AFpVlZWZjSCcXFx2kfi0uE4duyYEZQWi/ME1ay8vNyYDo2JidE+9ST7UPalkG3T3aGyOds/mcbzdJj0ywvw4fHxzgBxv1wneHxSGjJmTUGGOk6tXxTBcsNMjGsjSIiI6FT9MkzaEn51LjZdsRe52fORe8tE5H49H/mPTIb+PhARke9jmJwQ7hyZrMDWR1Zg2YZd2LV8BtL131hBROQXGCZERGQaw4SIiExjmBARkWkMEyIiMo1hQkREpjFMiIjINIYJERGZxjAhIiLTGCZERGQaw4SIiExjmBARkWkMEyIiMo1hQkREpjFMiIjINIYJERGZxjAhIiLTGCZtsiEveya2faGKRETUIYZJWw5swrJ1dlUgIqLOMEy+oQTbtucjQZWIiKhzDJPT2PdthfW/czBGlYmIqHMMk1MUYesbacgaFaHKRETUFQEOJ7XsF6xWq1rqvvq/PIRtA+Zh1rffx0NnrMM57z+GSamu91avXo3m5mZXwWn37t3Yv38/0tPTkZmZqWpdcnJy1BIRUd8UFRWF2NhYVTKPI5MTPsK2Dy7GjG+r4mn27duHvXv3nni5Q6usrOyUenkREfU3fjkySUhIQGBgezl5FH+acQ5u3KGKU57EZ9umI2zXH/DChb/CrHOlch/+EPYgBv/nWUw/0/hX3zBv3jysX78eU6dOxZYtW1StHvIRlZeXG8txcXEIDg42lnWpq6tDbW0tQkJCPNpzaY9sm2yjrEvWqZPdbkdNTY2xD2Vf6lZRUYGWlhbExMQgNDRU1epRX1+P6upq49iXc0C3yspKNDU1GT3c8PBwVatHY2Mjjh8/joCAACQmJqpafWRdss7IyEhEROid9pZ9KPtSyLbJNuokx4gcK54emfhlmKSkpHQQJs4GxWbDyRt/wxEfb0PewjnYaVMnYJMVex8/hNQbxmHcDSuw5Jp4V30r2dnZWLduHaZNm4Znn31W1eohH1FJSYmxPHDgQO1hIgdbVVUVwsLCvHLiyrbJNg4YMEB7gyshKSeuhFZSUpKq1ae0tNSYHpXGXXeDK0Ep4RUUFITk5GRVq4+MyqXBlVCWRlenhoYGHDt2zGhoLRaLqtVHOjjS4EonIDo6WtXqIftQ9qWQbdMdJjZn+ycdRk5zeUB4fLwzQNwvOcEtyFy+A49teMz1unsm0pGBrHsfazNIiIjoVLxmchrbvk1YuWor9jr/s3XVSmzaZ1PvEBFRexgmp4kflYWcVbtgdVixa1UOskZxZEJE1BmGCRERmcYwISIi0xgmRERkGsOEiIhMY5gQEZFpDBMiIjKNYUJERKYxTIiIyDSGCRERmcYwISIi0xgmRERkGsOEiIhMY5gQEZFpDBMiIjKNYUJERKYxTE6wo+RIEexNrpLtwDasfdX1qFwiIuoYw+QEG/IXfwsRIQHGM5gTbt2LtHT9z5omIvIHDJPWBi/Bjrxd2FXwMSreXoPMwaqeiIg6xDBpLWYoxkzIROaodMQHqzoiIuoUw6S1qr1YszgX9/zmNsxenIciVU1ERB0LcDipZb9gtVoRFRVlXPfonqN4fe1fccGc/8YgZ+nTJ36MrJpl+H9zLnK9fZoFCxbg0UcfxfXXX4/NmzerWn2qq6uNv5GRkQgM1NsHaGhoMF7BwcEIDw9Xtfq4ty0iIgJBQUHGsi6NjY2or6831iPr0622thYtLS3GfpT9qVNTUxPsdrtxfMhxopt728LCwhASEqJq9WhubkZdXZ2xHB0dbfzVSdYl6wwNDTVeOsk+lH0pvLFtcozIsSLtZGxsrKo1zy/DxCPefwhnZAGvH5iHYc7ioEGDjIaoK44cOeKVk5mIqKcYJp2QMOm4J1GKHVlD8fOXVPHaR/HxpilIPrwFd/wRyH74f3G+1P99FZL+60M8+uETmHKG8S9PsXjxYmzYsAFTpkwxRii6yUhBSA+w+6Ou7pEembykh6u7Ny28uW3SC5RemaxHd29aSAdETjHZj7pHlP68bbIed2dO90hByH6U/SkjWN2j5d7aNoZJJyRMUlJSOjy47TYb7GoZCEd8fDhsL9+GhLvisffgMowOd/6bN+Yj4qcJ2G9dggz1L1vLzs7GunXrMG3aNDz77LOqVg/5iEpKXN95GThwoPYGXqadqqqqjOmLxMREVauPbJts44ABA7SfTDKdUFlZaTS2SUlJqlaf0tJSI5gTEhK0TxnK9EVFRYXR+CUnJ6tafcrKyoxGMC4uTvtIXDocx44dM4LSYtF/y355ebkxHRoTE6N96kn2oexLIdumu0Nlc7Z/Mo3n6TDplxfgw+PjnQHifrlO8PjRmVhxd5YRJPIFxsK385F594w2g4SIiE7VL8OkTUmZyErahpm3zMf8mydi08BN2PqzNPUmERF1hGHSSvw1S7B1wwqs2PwmHrs9A/GqnoiIOsYwISIi0xgmRERkGsOEiIhMY5gQEZFpDBMiIjKNYUJERKYxTIiIyDSGCRERmcYwISIi0xgmRERkGsOEiIhMY5gQEZFpDBMiIjKNYUJERKYxTLrguuuuM56U97vf/Q7FxcWqtm0HDhzArFmzjKelvfjii6qWiMi/MUy6SB51uXTpUmRkZBiB0ZYnnnjCeF/+is6Ch4jIXzBMukBGGI8//jgGDRpkhIoExieffKLedbnpppuMEYkYO3Ysdu/ejTvuuMMoExH5O4ZJF0lYyIjkoosuMsr5+fnGXyHvPfnkk8byjTfeiD179uCqq64yykRE/QHDpBvi4+ONoLj22mtVDfCPf/zjRJA8+OCDJ6a4iIj6E4ZJN0mgSGAMGDDAKEuYCBmRcFqLiPorhkkPSKBMmDBBlWBMfXFEQkT9WYDDSS37BavVqpb027hxI1auXInNmzdjzJgxqpaIqO+LiopCbGysKpnnd2FCRETex2kuIiIyjWFCRESmMUyIiMg0hgkREZnGMCEiItMYJkREZBrDhIiITGOYEBGRaQwTIiIyjWFCRESmMUyIiMg0hgkREZnGMCEiItMYJkREZBrDhIiITGOYEBGRaQwTIiIyjWFCRESmMUyIiMg0hgkREZnGMCEiItMYJkREZBrDhIiITGOYEBGRaQwTIiIyjWFCREQmAf8f1bprmgxTr9MAAAAASUVORK5CYII=)"
      ]
    }
  ]
}